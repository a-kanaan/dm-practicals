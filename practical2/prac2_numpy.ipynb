{
 "cells": [
  {
   "cell_type": "markdown",
   "id": "ba877f04-02cc-488b-ad6d-bc5d805c910d",
   "metadata": {},
   "source": [
    "# Practical 2 - NumPy\n",
    "### Prepared by: <a href=\"https://www.linkedin.com/in/a-kanaan/\">Dr Abdulkarim M. Jamal Kanaan</a> \n",
    "<hr>"
   ]
  },
  {
   "cell_type": "markdown",
   "id": "ea465ac4-7bfd-4a50-8e90-f6e85f166295",
   "metadata": {},
   "source": [
    "## Introduction to NumPy for Machine Learning\n",
    "\n",
    "In this practical session, we will explore the NumPy package, a fundamental library for scientific computing in Python, with a focus on its applications in machine learning. NumPy provides powerful tools for creating and manipulating multi-dimensional arrays, performing mathematical operations efficiently, and preparing data for machine learning algorithms. Through hands-on exercises and examples, you will learn the essential functionalities of NumPy and gain the necessary skills to leverage its capabilities in your data mining projects."
   ]
  },
  {
   "cell_type": "markdown",
   "id": "9c1c2529-045e-4574-af07-aa23f9651cf2",
   "metadata": {},
   "source": [
    "## Installing NumPy and setting up the environment:\n",
    "\n",
    "NumPy can be installed using pip, a package installer for Python. Use the following command to install NumPy: `pip install numpy`"
   ]
  },
  {
   "cell_type": "markdown",
   "id": "726988cf-ff73-4741-84cb-45c4ddafcb36",
   "metadata": {},
   "source": [
    "## Introduction to NumPy\n",
    "- Creating 1D and 2D arrays using np.array function.\n",
    "- Accessing elements in an array using indexing.\n",
    "- Displaying array attributes such as shape, number of dimensions, and data type."
   ]
  },
  {
   "cell_type": "code",
   "execution_count": 34,
   "id": "8ae7eb7b-6281-422e-b059-3479a05504b3",
   "metadata": {},
   "outputs": [
    {
     "name": "stdout",
     "output_type": "stream",
     "text": [
      "\n",
      "Arrays and Data Structures:\n",
      "1D Array:\n",
      "[1 2 3 4 5]\n",
      "\n",
      "2D Array:\n",
      "[[1 2 3]\n",
      " [4 5 6]]\n",
      "\n",
      "Accessing elements in an array:\n",
      "First element of arr1d: 1\n",
      "Element at row 1, column 2 of arr2d: 6\n",
      "\n",
      "Array attributes:\n",
      "Shape of arr2d: (2, 3)\n",
      "Number of dimensions in arr2d: 2\n",
      "Data type of arr2d elements: int32\n"
     ]
    }
   ],
   "source": [
    "import numpy as np\n",
    "\n",
    "# Arrays and Data Structures\n",
    "print(\"\\nArrays and Data Structures:\")\n",
    "# Create a 1D array\n",
    "arr1d = np.array([1, 2, 3, 4, 5])\n",
    "print(\"1D Array:\")\n",
    "print(arr1d)\n",
    "\n",
    "# Create a 2D array\n",
    "arr2d = np.array([[1, 2, 3], [4, 5, 6]])\n",
    "print(\"\\n2D Array:\")\n",
    "print(arr2d)\n",
    "\n",
    "# Accessing elements in an array\n",
    "print(\"\\nAccessing elements in an array:\")\n",
    "print(\"First element of arr1d:\", arr1d[0])\n",
    "print(\"Element at row 1, column 2 of arr2d:\", arr2d[1, 2])\n",
    "\n",
    "# Array attributes\n",
    "print(\"\\nArray attributes:\")\n",
    "print(\"Shape of arr2d:\", arr2d.shape)\n",
    "print(\"Number of dimensions in arr2d:\", arr2d.ndim)\n",
    "print(\"Data type of arr2d elements:\", arr2d.dtype)"
   ]
  },
  {
   "cell_type": "markdown",
   "id": "3c71eff3-66bd-4bab-a77c-1589bb955184",
   "metadata": {},
   "source": [
    "## Creating, Indexing, Slicing, and Manipulating NumPy Arrays\n",
    "- Creating NumPy arrays using different methods (e.g., np.array, np.zeros, np.ones).\n",
    "- Array indexing and slicing.\n",
    "- Manipulating array shapes and dimensions."
   ]
  },
  {
   "cell_type": "code",
   "execution_count": 35,
   "id": "dad75d69-d23c-4993-baa6-d130e2b3fbb3",
   "metadata": {},
   "outputs": [
    {
     "name": "stdout",
     "output_type": "stream",
     "text": [
      "Array 1:\n",
      " [1 2 3 4 5]\n",
      "Array 2:\n",
      " [[1 2 3]\n",
      " [4 5 6]]\n",
      "Array 3:\n",
      " [[0. 0. 0. 0.]\n",
      " [0. 0. 0. 0.]\n",
      " [0. 0. 0. 0.]]\n",
      "Array 4:\n",
      " [[1. 1. 1.]\n",
      " [1. 1. 1.]]\n",
      "Array 5:\n",
      " [1 2 3 4 5 6 7 8 9]\n"
     ]
    }
   ],
   "source": [
    "import numpy as np\n",
    "\n",
    "# Creating NumPy arrays using different methods\n",
    "arr1 = np.array([1, 2, 3, 4, 5])  # Create a 1D array using np.array\n",
    "arr2 = np.array([[1, 2, 3], [4, 5, 6]]) # Create a 2D array using np.array\n",
    "arr3 = np.zeros((3, 4))  # Create a 2D array filled with zeros using np.zeros\n",
    "arr4 = np.ones((2, 3))  # Create a 2D array filled with ones using np.ones\n",
    "arr5 = np.arange(1, 10) # Create an array with a specified range of values\n",
    "\n",
    "print(\"Array 1:\\n\", arr1)\n",
    "print(\"Array 2:\\n\", arr2)\n",
    "print(\"Array 3:\\n\", arr3)\n",
    "print(\"Array 4:\\n\", arr4)\n",
    "print(\"Array 5:\\n\", arr5)"
   ]
  },
  {
   "cell_type": "code",
   "execution_count": 36,
   "id": "af7f4136-8f2f-493a-b93d-dd434bc4157e",
   "metadata": {},
   "outputs": [
    {
     "name": "stdout",
     "output_type": "stream",
     "text": [
      "Array 2:\n",
      "\n",
      " [[1 2 3]\n",
      " [4 5 6]]\n",
      "\n",
      "Array indexing and slicing:\n",
      "Element at index 1, column 1: 5\n",
      "First row: [1 2 3]\n",
      "Elements in the last column: [3 6]\n",
      "Slice: [[2 3]\n",
      " [5 6]]\n",
      "\n",
      "Manipulating array shapes and dimensions:\n",
      "\n",
      "Reshaped array:\n",
      " [[1 2]\n",
      " [3 4]\n",
      " [5 6]]\n",
      "\n",
      "Flattened array: [1 2 3 4 5 6]\n",
      "\n",
      "Transposed Array:\n",
      " [[1 4]\n",
      " [2 5]\n",
      " [3 6]]\n"
     ]
    }
   ],
   "source": [
    "print(\"Array 2:\\n\\n\", arr2)\n",
    "print()\n",
    "# Array indexing and slicing\n",
    "print(\"Array indexing and slicing:\")\n",
    "print(\"Element at index 1, column 1:\", arr2[1, 1])\n",
    "print(\"First row:\", arr2[0])\n",
    "print(\"Elements in the last column:\", arr2[:, -1])\n",
    "print(\"Slice:\", arr2[:, 1:])  # Slicing the second column onwards\n",
    "\n",
    "# Manipulating array shapes and dimensions\n",
    "print(\"\\nManipulating array shapes and dimensions:\")\n",
    "reshaped_arr = arr2.reshape((3, 2))  # Reshape the array\n",
    "print(\"\\nReshaped array:\\n\", reshaped_arr)\n",
    "\n",
    "flattened_arr = arr2.flatten()  # Flatten the array\n",
    "print(\"\\nFlattened array:\", flattened_arr)\n",
    "\n",
    "# Transpose the array\n",
    "transposed_arr = arr2.T\n",
    "print(\"\\nTransposed Array:\\n\", transposed_arr)"
   ]
  },
  {
   "cell_type": "markdown",
   "id": "4bab7dd8-13c9-4116-9006-62b7b0bfb0de",
   "metadata": {},
   "source": [
    "## Mathematical Operations in NumPy"
   ]
  },
  {
   "cell_type": "code",
   "execution_count": 37,
   "id": "f7652363-0eb1-4764-ae70-27ad9786531b",
   "metadata": {},
   "outputs": [
    {
     "name": "stdout",
     "output_type": "stream",
     "text": [
      "Addition: [ 7  9 11 13 15]\n",
      "Subtraction: [-5 -5 -5 -5 -5]\n",
      "Multiplication: [ 6 14 24 36 50]\n",
      "Division: [0.16666667 0.28571429 0.375      0.44444444 0.5       ]\n",
      "Exponential: [  2.71828183   7.3890561   20.08553692  54.59815003 148.4131591 ]\n",
      "Square Root: [2.44948974 2.64575131 2.82842712 3.         3.16227766]\n",
      "Mean Value: 3.0\n",
      "Maximum Value: 10\n",
      "Minimum Value: 1\n",
      "Dot Product: 130\n"
     ]
    }
   ],
   "source": [
    "import numpy as np\n",
    "\n",
    "# Create two arrays\n",
    "arr1 = np.array([1, 2, 3, 4, 5])\n",
    "arr2 = np.array([6, 7, 8, 9, 10])\n",
    "\n",
    "# Basic arithmetic operations\n",
    "addition = np.add(arr1, arr2)\n",
    "subtraction = np.subtract(arr1, arr2)\n",
    "multiplication = np.multiply(arr1, arr2)\n",
    "division = np.divide(arr1, arr2)\n",
    "dot_product = np.dot(arr1, arr2)\n",
    "\n",
    "# Other mathematical operations\n",
    "exponential = np.exp(arr1)\n",
    "square_root = np.sqrt(arr2)\n",
    "mean_value = np.mean(arr1)\n",
    "max_value = np.max(arr2)\n",
    "min_value = np.min(arr1)\n",
    "\n",
    "# Print the results\n",
    "print(\"Addition:\", addition)\n",
    "print(\"Subtraction:\", subtraction)\n",
    "print(\"Multiplication:\", multiplication)\n",
    "print(\"Division:\", division)\n",
    "print(\"Exponential:\", exponential)\n",
    "print(\"Square Root:\", square_root)\n",
    "print(\"Mean Value:\", mean_value)\n",
    "print(\"Maximum Value:\", max_value)\n",
    "print(\"Minimum Value:\", min_value)\n",
    "print(\"Dot Product:\", dot_product)"
   ]
  },
  {
   "cell_type": "markdown",
   "id": "c4a3633e-cb86-47f2-b11b-d65824f20996",
   "metadata": {},
   "source": [
    "This code demonstrates various mathematical operations that can be performed on NumPy arrays. It showcases basic arithmetic operations like addition, subtraction, multiplication, and division. Additionally, it demonstrates other mathematical operations like exponential calculation, square root, mean value, maximum value, and minimum value."
   ]
  },
  {
   "cell_type": "markdown",
   "id": "180f5f2c-a19f-4453-8a40-22b6299f0f11",
   "metadata": {},
   "source": [
    "## Generating Random Numbers and Arrays with NumPy"
   ]
  },
  {
   "cell_type": "code",
   "execution_count": 38,
   "id": "65cbabab-501f-49ea-b326-c367a7a0b755",
   "metadata": {},
   "outputs": [
    {
     "name": "stdout",
     "output_type": "stream",
     "text": [
      "Generating random numbers:\n",
      "Random number: 0.5628538432150798\n",
      "\n",
      "Generating random arrays:\n",
      "1D random array:\n",
      "[0.58184747 0.306164   0.55682621]\n",
      "\n",
      "2D random array:\n",
      "[[0.66305628 0.42510035 0.52069161]\n",
      " [0.3949088  0.24368101 0.76282041]]\n",
      "\n",
      "1D random integer array:\n",
      "[9 3 3 9 8]\n",
      "\n",
      "Generating random numbers from a normal distribution:\n",
      "[ 0.83219982  0.70506567 -0.29140482  0.69299882  0.57206737]\n"
     ]
    }
   ],
   "source": [
    "import numpy as np\n",
    "\n",
    "# Generating random numbers\n",
    "print(\"Generating random numbers:\")\n",
    "rand_num = np.random.rand()  # Generate a random number between 0 and 1\n",
    "print(\"Random number:\", rand_num)\n",
    "\n",
    "# Generating random arrays\n",
    "print(\"\\nGenerating random arrays:\")\n",
    "rand_arr = np.random.rand(3)  # Generate a 1D array of random numbers between 0 and 1\n",
    "print(\"1D random array:\")\n",
    "print(rand_arr)\n",
    "\n",
    "rand_2d_arr = np.random.rand(2, 3)  # Generate a 2D array of random numbers between 0 and 1\n",
    "print(\"\\n2D random array:\")\n",
    "print(rand_2d_arr)\n",
    "\n",
    "rand_int_arr = np.random.randint(1, 10, size=5)  # Generate a 1D array of random integers between 1 and 10\n",
    "print(\"\\n1D random integer array:\")\n",
    "print(rand_int_arr)\n",
    "\n",
    "# Generating random numbers from a normal distribution\n",
    "print(\"\\nGenerating random numbers from a normal distribution:\")\n",
    "rand_normal = np.random.normal(loc=0, scale=1, size=5)  # Generate 5 random numbers from a normal distribution\n",
    "print(rand_normal)"
   ]
  },
  {
   "cell_type": "markdown",
   "id": "61288920-a4fe-4134-87c6-8f1ade3e11a8",
   "metadata": {},
   "source": [
    "## Advanced Operations\n",
    "- Boolean array operations and masking.\n",
    "- Sorting, searching, and indexing."
   ]
  },
  {
   "cell_type": "code",
   "execution_count": 39,
   "id": "f7571f92-0fc7-45ae-bfea-dec9279e492e",
   "metadata": {},
   "outputs": [
    {
     "name": "stdout",
     "output_type": "stream",
     "text": [
      "\n",
      "Boolean array operations and masking:\n",
      "[40 50]\n",
      "\n",
      "Sorting, searching, and indexing: [1 2 3 4 5]\n",
      "Max value: 5\n",
      "Min index: 2\n"
     ]
    }
   ],
   "source": [
    "import numpy as np\n",
    "\n",
    "# Create arries a, b\n",
    "a = np.array([1, 2, 3])\n",
    "b = np.array([4, 5, 6])\n",
    "\n",
    "# Boolean array operations and masking\n",
    "data = np.array([10, 20, 30, 40, 50])\n",
    "mask = data > 30\n",
    "filtered_data = data[mask]\n",
    "\n",
    "# Sorting, searching, and indexing\n",
    "arr = np.array([3, 2, 1, 5, 4])\n",
    "sorted_arr = np.sort(arr)\n",
    "max_value = np.max(arr)\n",
    "min_index = np.argmin(arr)\n",
    "\n",
    "# Print the results\n",
    "print(\"\\nBoolean array operations and masking:\")\n",
    "print(filtered_data)\n",
    "\n",
    "print(\"\\nSorting, searching, and indexing:\", sorted_arr)\n",
    "print(\"Max value:\", max_value)\n",
    "print(\"Min index:\", min_index)"
   ]
  },
  {
   "cell_type": "markdown",
   "id": "9bca3a3d-ee5a-42e1-989f-64549a8f3215",
   "metadata": {},
   "source": [
    "In this example:\n",
    "\n",
    "\n",
    "- Boolean array operations and masking: We create an array data and apply a boolean condition `(data > 30)` to create a boolean mask. We then use this mask to filter the array and retrieve only the elements that satisfy the condition.\n",
    "\n",
    "- Sorting, searching, and indexing: We create an array arr and use `np.sort()` to sort the elements in ascending order. We also use `np.max()` to find the maximum value in the array and `np.argmin()` to find the index of the minimum value."
   ]
  }
 ],
 "metadata": {
  "kernelspec": {
   "display_name": "Python 3 (ipykernel)",
   "language": "python",
   "name": "python3"
  },
  "language_info": {
   "codemirror_mode": {
    "name": "ipython",
    "version": 3
   },
   "file_extension": ".py",
   "mimetype": "text/x-python",
   "name": "python",
   "nbconvert_exporter": "python",
   "pygments_lexer": "ipython3",
   "version": "3.8.13"
  }
 },
 "nbformat": 4,
 "nbformat_minor": 5
}
