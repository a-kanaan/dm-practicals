{
  "cells": [
    {
      "cell_type": "markdown",
      "metadata": {
        "id": "view-in-github",
        "colab_type": "text"
      },
      "source": [
        "<a href=\"https://colab.research.google.com/github/a-kanaan/dm-practicals/blob/main/practical1/Prac1.ipynb\" target=\"_parent\"><img src=\"https://colab.research.google.com/assets/colab-badge.svg\" alt=\"Open In Colab\"/></a>"
      ]
    },
    {
      "cell_type": "markdown",
      "metadata": {
        "id": "UHWUSEop6jjJ"
      },
      "source": [
        "# Practical 1 - Python Basics\n",
        "## Prepared by: Dr Abdulkarim M. Jamal Kanaan\n",
        "<hr>\n",
        "\n",
        "Practical 1 focuses on revising the fundamentals of Python programming. This practical session is designed to refresh your knowledge and skills in Python, ensuring a solid foundation as we progress through the course.\n",
        "\n",
        "Python is a versatile and powerful programming language widely used in various domains, including data analysis, machine learning, web development, and more. It offers a simple and intuitive syntax, making it an excellent choice for both beginners and experienced programmers.\n",
        "\n",
        "this is considered as an brief introduction to <code>python</code>"
      ]
    },
    {
      "cell_type": "markdown",
      "metadata": {
        "tags": [],
        "id": "vvMbyeeT6jjM"
      },
      "source": [
        "# Introduction\n",
        "## 1.1 Interactive Shell"
      ]
    },
    {
      "cell_type": "code",
      "execution_count": null,
      "metadata": {
        "id": "S-fyt2sS6jjM",
        "outputId": "574f201b-a6f3-4c39-eda2-b6943323646b"
      },
      "outputs": [
        {
          "name": "stdout",
          "output_type": "stream",
          "text": [
            "Hello, World!\n"
          ]
        }
      ],
      "source": [
        "# Print \"Hello, World!\"\n",
        "print(\"Hello, World!\")"
      ]
    },
    {
      "cell_type": "markdown",
      "metadata": {
        "tags": [],
        "id": "sL1d6Hl-6jjN"
      },
      "source": [
        "## 1.2 Writing Comments\n",
        "<div class=\"alert alert-success alertsuccess\" style=\"margin-top: 20px\">\n",
        "Use the symbol <code>#</code> to add comments in a python script\n",
        "</div>"
      ]
    },
    {
      "cell_type": "code",
      "execution_count": null,
      "metadata": {
        "id": "u7-E1W606jjN",
        "outputId": "cf02d03f-acb9-48f9-a9fc-bb431d61f9ae"
      },
      "outputs": [
        {
          "name": "stdout",
          "output_type": "stream",
          "text": [
            "Hello, Python!\n"
          ]
        }
      ],
      "source": [
        "print(\"Hello, Python!\") # print text to the screen"
      ]
    },
    {
      "cell_type": "markdown",
      "metadata": {
        "id": "oTqzS53_6jjN"
      },
      "source": [
        "## 1.3 Variables and Data Types:"
      ]
    },
    {
      "cell_type": "code",
      "execution_count": null,
      "metadata": {
        "id": "ItxUy2vQ6jjN",
        "outputId": "789eda89-be28-4a14-e94d-a75e15dd7d86"
      },
      "outputs": [
        {
          "name": "stdout",
          "output_type": "stream",
          "text": [
            "Age: 25\n",
            "Name: Jamal\n",
            "Height: 1.75\n"
          ]
        }
      ],
      "source": [
        "# Variables\n",
        "age = 25\n",
        "name = \"Jamal\"\n",
        "height = 1.75\n",
        "\n",
        "# Print variables\n",
        "print(\"Age:\", age)\n",
        "print(\"Name:\", name)\n",
        "print(\"Height:\", height)"
      ]
    },
    {
      "cell_type": "markdown",
      "metadata": {
        "id": "CVosN0o86jjN"
      },
      "source": [
        "## 1.4 Operators:\n",
        "\n"
      ]
    },
    {
      "cell_type": "code",
      "execution_count": null,
      "metadata": {
        "id": "owfvJJga6jjN",
        "outputId": "641c8fd1-d40d-4d23-8f80-5f5fe5182d05"
      },
      "outputs": [
        {
          "name": "stdout",
          "output_type": "stream",
          "text": [
            "Addition: 15\n",
            "Subtraction: 5\n",
            "Multiplication: 50\n",
            "Division: 2.0\n"
          ]
        }
      ],
      "source": [
        "# Arithmetic Operators\n",
        "num1 = 10\n",
        "num2 = 5\n",
        "\n",
        "addition = num1 + num2\n",
        "subtraction = num1 - num2\n",
        "multiplication = num1 * num2\n",
        "division = num1 / num2\n",
        "\n",
        "print(\"Addition:\", addition)\n",
        "print(\"Subtraction:\", subtraction)\n",
        "print(\"Multiplication:\", multiplication)\n",
        "print(\"Division:\", division)"
      ]
    },
    {
      "cell_type": "markdown",
      "metadata": {
        "id": "dLmyUGBx6jjO"
      },
      "source": [
        "## 1.5 Control Structures:"
      ]
    },
    {
      "cell_type": "code",
      "execution_count": null,
      "metadata": {
        "id": "7f_fogaM6jjO",
        "outputId": "ad3dda81-b0e2-48ab-b656-d6470f188c22"
      },
      "outputs": [
        {
          "name": "stdout",
          "output_type": "stream",
          "text": [
            "You are an adult.\n",
            "Iteration: 1\n",
            "Iteration: 2\n",
            "Iteration: 3\n",
            "Iteration: 4\n",
            "Iteration: 5\n",
            "Iteration: 1\n",
            "Iteration: 2\n",
            "Iteration: 3\n",
            "Iteration: 4\n",
            "Iteration: 5\n"
          ]
        }
      ],
      "source": [
        "# If-Else Statement\n",
        "age = 18\n",
        "\n",
        "if age >= 18:\n",
        "    print(\"You are an adult.\")\n",
        "else:\n",
        "    print(\"You are a minor.\")\n",
        "\n",
        "# For Loop\n",
        "for i in range(1, 6):\n",
        "    print(\"Iteration:\", i)\n",
        "\n",
        "# While Loop\n",
        "i = 1\n",
        "while i <= 5:\n",
        "    print(\"Iteration:\", i)\n",
        "    i += 1"
      ]
    },
    {
      "cell_type": "markdown",
      "metadata": {
        "id": "LtmnaWPg6jjO"
      },
      "source": [
        "## 1.6 Functions"
      ]
    },
    {
      "cell_type": "code",
      "execution_count": null,
      "metadata": {
        "id": "swiPTIOy6jjO",
        "outputId": "faec5650-3261-488b-bb11-fe67c96ab8dc"
      },
      "outputs": [
        {
          "name": "stdout",
          "output_type": "stream",
          "text": [
            "Hello, Jamal !\n",
            "Hello, Abdulkarim !\n"
          ]
        }
      ],
      "source": [
        "# Define a function\n",
        "def greet(name):\n",
        "    print(\"Hello,\", name, \"!\")\n",
        "\n",
        "# Call the function\n",
        "greet(\"Jamal\")\n",
        "greet(\"Abdulkarim\")\n"
      ]
    },
    {
      "cell_type": "markdown",
      "metadata": {
        "id": "GAMPUGAZ6jjO"
      },
      "source": [
        "# 2. Working with Data"
      ]
    },
    {
      "cell_type": "markdown",
      "metadata": {
        "id": "R7FvA26g6jjO"
      },
      "source": [
        "## 2.1 Lists:"
      ]
    },
    {
      "cell_type": "code",
      "execution_count": null,
      "metadata": {
        "id": "dsRmYIeN6jjO",
        "outputId": "c6ea5219-3485-4c7b-c581-1628e5d29aa5"
      },
      "outputs": [
        {
          "name": "stdout",
          "output_type": "stream",
          "text": [
            "1\n",
            "3\n",
            "[1, 10, 3, 4, 5]\n",
            "1\n",
            "10\n",
            "3\n",
            "4\n",
            "5\n"
          ]
        }
      ],
      "source": [
        "# Create a list\n",
        "numbers = [1, 2, 3, 4, 5]\n",
        "\n",
        "# Access elements in a list\n",
        "print(numbers[0])  # Output: 1\n",
        "print(numbers[2])  # Output: 3\n",
        "\n",
        "# Modify elements in a list\n",
        "numbers[1] = 10\n",
        "print(numbers)  # Output: [1, 10, 3, 4, 5]\n",
        "\n",
        "# Iterate over a list\n",
        "for number in numbers:\n",
        "    print(number)"
      ]
    },
    {
      "cell_type": "markdown",
      "metadata": {
        "id": "840M3V8_6jjO"
      },
      "source": [
        "## 2.2 Strings:"
      ]
    },
    {
      "cell_type": "code",
      "execution_count": null,
      "metadata": {
        "id": "i72UjnbZ6jjO",
        "outputId": "77e4f6f0-ae0e-4941-8928-93aa7b7ca860"
      },
      "outputs": [
        {
          "name": "stdout",
          "output_type": "stream",
          "text": [
            "J\n",
            "m\n",
            "Hello, Jamal\n",
            "jamal\n",
            "JAMAL\n",
            "Jameel\n"
          ]
        }
      ],
      "source": [
        "# Create a string\n",
        "name = \"Jamal\"\n",
        "\n",
        "# Access characters in a string\n",
        "print(name[0])  # Output: J\n",
        "print(name[2])  # Output: m\n",
        "\n",
        "# Concatenate strings\n",
        "greeting = \"Hello, \" + name\n",
        "print(greeting)  # Output: Hello, Alice\n",
        "\n",
        "# String methods\n",
        "print(name.lower())   # Output: jamal\n",
        "print(name.upper())   # Output: JAMAL\n",
        "print(name.replace(\"al\", \"eel\"))  # Output: Jameel"
      ]
    },
    {
      "cell_type": "markdown",
      "metadata": {
        "id": "6rwcwFdL6jjO"
      },
      "source": [
        "## 2.3 Dictionaries:"
      ]
    },
    {
      "cell_type": "code",
      "execution_count": null,
      "metadata": {
        "id": "NvwV4vPE6jjO",
        "outputId": "e6beeb8d-fcff-44ea-8550-af61734e31d4"
      },
      "outputs": [
        {
          "name": "stdout",
          "output_type": "stream",
          "text": [
            "Jamal\n",
            "20\n",
            "{'name': 'Jamal', 'age': 21, 'major': 'Information Technology'}\n"
          ]
        }
      ],
      "source": [
        "# Create a dictionary\n",
        "student = {\n",
        "    \"name\": \"Jamal\",\n",
        "    \"age\": 20,\n",
        "    \"major\": \"Information Technology\"\n",
        "}\n",
        "\n",
        "# Access values in a dictionary\n",
        "print(student[\"name\"])   # Output: Jamal\n",
        "print(student[\"age\"])    # Output: 20\n",
        "\n",
        "# Modify values in a dictionary\n",
        "student[\"age\"] = 21\n",
        "print(student)   # Output: {'name': 'Jamal', 'age': 21, 'major': 'Computer Science'}\n"
      ]
    },
    {
      "cell_type": "markdown",
      "metadata": {
        "id": "LPbNAnT36jjO"
      },
      "source": [
        "## 2.4 Tuples:"
      ]
    },
    {
      "cell_type": "code",
      "execution_count": null,
      "metadata": {
        "id": "cDF1Nwrw6jjO",
        "outputId": "980c9377-39c5-4200-af14-054a35fcce25"
      },
      "outputs": [
        {
          "name": "stdout",
          "output_type": "stream",
          "text": [
            "3\n",
            "4\n"
          ]
        },
        {
          "ename": "TypeError",
          "evalue": "'tuple' object does not support item assignment",
          "output_type": "error",
          "traceback": [
            "\u001b[1;31m---------------------------------------------------------------------------\u001b[0m",
            "\u001b[1;31mTypeError\u001b[0m                                 Traceback (most recent call last)",
            "Cell \u001b[1;32mIn[71], line 9\u001b[0m\n\u001b[0;32m      6\u001b[0m \u001b[38;5;28mprint\u001b[39m(coordinates[\u001b[38;5;241m1\u001b[39m])  \u001b[38;5;66;03m# Output: 4\u001b[39;00m\n\u001b[0;32m      8\u001b[0m \u001b[38;5;66;03m# Tuples are immutable\u001b[39;00m\n\u001b[1;32m----> 9\u001b[0m coordinates[\u001b[38;5;241m0\u001b[39m] \u001b[38;5;241m=\u001b[39m \u001b[38;5;241m5\u001b[39m\n",
            "\u001b[1;31mTypeError\u001b[0m: 'tuple' object does not support item assignment"
          ]
        }
      ],
      "source": [
        "# Create a tuple\n",
        "coordinates = (3, 4)\n",
        "\n",
        "# Access elements in a tuple\n",
        "print(coordinates[0])  # Output: 3\n",
        "print(coordinates[1])  # Output: 4\n",
        "\n",
        "# Tuples are immutable\n",
        "coordinates[0] = 5   # This will cause an error"
      ]
    },
    {
      "cell_type": "markdown",
      "metadata": {
        "id": "MzTV1TE-6jjP"
      },
      "source": [
        "## 2.5 NumPy Arrays:"
      ]
    },
    {
      "cell_type": "code",
      "execution_count": null,
      "metadata": {
        "id": "uB3ZZWDX6jjP",
        "outputId": "28334d89-4bc4-468a-83db-fac9d8e59699"
      },
      "outputs": [
        {
          "name": "stdout",
          "output_type": "stream",
          "text": [
            "1\n",
            "3\n",
            "15\n",
            "3.0\n"
          ]
        }
      ],
      "source": [
        "import numpy as np\n",
        "\n",
        "# Create a NumPy array\n",
        "numbers = np.array([1, 2, 3, 4, 5])\n",
        "\n",
        "# Access elements in a NumPy array\n",
        "print(numbers[0])  # Output: 1\n",
        "print(numbers[2])  # Output: 3\n",
        "\n",
        "# Perform operations on NumPy arrays\n",
        "print(numbers.sum())  # Output: 15\n",
        "print(numbers.mean())  # Output: 3.0"
      ]
    },
    {
      "cell_type": "markdown",
      "metadata": {
        "id": "JxHvlfcA6jjP"
      },
      "source": [
        "# 3. Essential Python Libraries for Machine Learning"
      ]
    },
    {
      "cell_type": "code",
      "execution_count": null,
      "metadata": {
        "id": "bAYeM9AA6jjP",
        "outputId": "c7267e20-d0cf-4aee-c717-82bca9c8c29a"
      },
      "outputs": [
        {
          "name": "stdout",
          "output_type": "stream",
          "text": [
            "[1 2 3 4 5]\n",
            "    Name  Age\n",
            "0   John   25\n",
            "1  Alice   30\n",
            "2    Bob   27\n"
          ]
        },
        {
          "data": {
            "image/png": "[encoded data removed]",
            "text/plain": [
              "<Figure size 640x480 with 1 Axes>"
            ]
          },
          "metadata": {},
          "output_type": "display_data"
        }
      ],
      "source": [
        "# NumPy\n",
        "import numpy as np\n",
        "\n",
        "arr = np.array([1, 2, 3, 4, 5])\n",
        "print(arr)\n",
        "\n",
        "# Pandas\n",
        "import pandas as pd\n",
        "\n",
        "data = {'Name': ['John', 'Alice', 'Bob'], 'Age': [25, 30, 27]}\n",
        "df = pd.DataFrame(data)\n",
        "print(df)\n",
        "\n",
        "# Matplotlib\n",
        "import matplotlib.pyplot as plt\n",
        "\n",
        "x = [1, 2, 3, 4, 5]\n",
        "y = [10, 8, 6, 4, 2]\n",
        "plt.plot(x, y)\n",
        "plt.show()"
      ]
    },
    {
      "cell_type": "markdown",
      "metadata": {
        "id": "YYdoMgsp6jjP"
      },
      "source": [
        "# 4. Data Preprocessing with Pandas:"
      ]
    },
    {
      "cell_type": "code",
      "execution_count": null,
      "metadata": {
        "id": "97cFFAmg6jjP",
        "outputId": "631601cd-44c7-4a9b-a008-c8e863369ca3"
      },
      "outputs": [
        {
          "data": {
            "text/html": [
              "<div>\n",
              "<style scoped>\n",
              "    .dataframe tbody tr th:only-of-type {\n",
              "        vertical-align: middle;\n",
              "    }\n",
              "\n",
              "    .dataframe tbody tr th {\n",
              "        vertical-align: top;\n",
              "    }\n",
              "\n",
              "    .dataframe thead th {\n",
              "        text-align: right;\n",
              "    }\n",
              "</style>\n",
              "<table border=\"1\" class=\"dataframe\">\n",
              "  <thead>\n",
              "    <tr style=\"text-align: right;\">\n",
              "      <th></th>\n",
              "      <th>Name</th>\n",
              "      <th>Age</th>\n",
              "      <th>Gender</th>\n",
              "      <th>Salary</th>\n",
              "      <th>Label</th>\n",
              "    </tr>\n",
              "  </thead>\n",
              "  <tbody>\n",
              "    <tr>\n",
              "      <th>0</th>\n",
              "      <td>Alice</td>\n",
              "      <td>25</td>\n",
              "      <td>Female</td>\n",
              "      <td>50000.0</td>\n",
              "      <td>Yes</td>\n",
              "    </tr>\n",
              "    <tr>\n",
              "      <th>1</th>\n",
              "      <td>Bob</td>\n",
              "      <td>30</td>\n",
              "      <td>Male</td>\n",
              "      <td>60000.0</td>\n",
              "      <td>No</td>\n",
              "    </tr>\n",
              "    <tr>\n",
              "      <th>2</th>\n",
              "      <td>Charlie</td>\n",
              "      <td>35</td>\n",
              "      <td>Male</td>\n",
              "      <td>70000.0</td>\n",
              "      <td>Yes</td>\n",
              "    </tr>\n",
              "    <tr>\n",
              "      <th>3</th>\n",
              "      <td>Danielle</td>\n",
              "      <td>28</td>\n",
              "      <td>Female</td>\n",
              "      <td>55000.0</td>\n",
              "      <td>Yes</td>\n",
              "    </tr>\n",
              "    <tr>\n",
              "      <th>4</th>\n",
              "      <td>Danielle</td>\n",
              "      <td>28</td>\n",
              "      <td>Female</td>\n",
              "      <td>55000.0</td>\n",
              "      <td>Yes</td>\n",
              "    </tr>\n",
              "    <tr>\n",
              "      <th>5</th>\n",
              "      <td>Hanna</td>\n",
              "      <td>30</td>\n",
              "      <td>Female</td>\n",
              "      <td>NaN</td>\n",
              "      <td>Yes</td>\n",
              "    </tr>\n",
              "  </tbody>\n",
              "</table>\n",
              "</div>"
            ],
            "text/plain": [
              "       Name  Age  Gender   Salary Label\n",
              "0     Alice   25  Female  50000.0   Yes\n",
              "1       Bob   30    Male  60000.0    No\n",
              "2   Charlie   35    Male  70000.0   Yes\n",
              "3  Danielle   28  Female  55000.0   Yes\n",
              "4  Danielle   28  Female  55000.0   Yes\n",
              "5     Hanna   30  Female      NaN   Yes"
            ]
          },
          "execution_count": 74,
          "metadata": {},
          "output_type": "execute_result"
        }
      ],
      "source": [
        "# Load Data\n",
        "df = pd.read_csv('data.csv')\n",
        "\n",
        "df"
      ]
    },
    {
      "cell_type": "code",
      "execution_count": null,
      "metadata": {
        "id": "oj318xSL6jjP",
        "outputId": "69910c6e-87e4-4dee-ccb9-c5c3135a4756"
      },
      "outputs": [
        {
          "name": "stdout",
          "output_type": "stream",
          "text": [
            "       Name  Age  Gender   Salary Label\n",
            "0     Alice   26       1  50000.0   Yes\n",
            "1       Bob   31       0  60000.0    No\n",
            "2   Charlie   36       0  70000.0   Yes\n",
            "3  Danielle   29       1  55000.0   Yes\n"
          ]
        }
      ],
      "source": [
        "# Clean Data\n",
        "df = df.dropna()\n",
        "df = df.drop_duplicates()\n",
        "\n",
        "# Transform Data\n",
        "df['Age'] = df['Age'].apply(lambda x: x + 1)\n",
        "df['Gender'] = df['Gender'].map({'Male': 0, 'Female': 1})\n",
        "\n",
        "# Explore Data\n",
        "print(df.head())\n",
        "\n",
        "# Split Data\n",
        "X = df[['Age', 'Gender']]\n",
        "y = df['Label']"
      ]
    },
    {
      "cell_type": "markdown",
      "metadata": {
        "id": "3QUvA3ub6jjP"
      },
      "source": [
        "# 5. Visualization with Matplotlib:"
      ]
    },
    {
      "cell_type": "code",
      "execution_count": null,
      "metadata": {
        "id": "eeFzADjr6jjP",
        "outputId": "b7a614ca-24bb-40af-96bc-a4e82ef2c70f"
      },
      "outputs": [
        {
          "data": {
            "image/png": "[encoded data removed]",
            "text/plain": [
              "<Figure size 640x480 with 1 Axes>"
            ]
          },
          "metadata": {},
          "output_type": "display_data"
        },
        {
          "data": {
            "image/png": "[encoded data removed]",
            "text/plain": [
              "<Figure size 640x480 with 1 Axes>"
            ]
          },
          "metadata": {},
          "output_type": "display_data"
        },
        {
          "data": {
            "image/png": "[encoded data removed]",
            "text/plain": [
              "<Figure size 640x480 with 1 Axes>"
            ]
          },
          "metadata": {},
          "output_type": "display_data"
        }
      ],
      "source": [
        "import matplotlib.pyplot as plt\n",
        "\n",
        "# Line Plot\n",
        "x = [1, 2, 3, 4, 5]\n",
        "y = [10, 8, 6, 4, 2]\n",
        "plt.plot(x, y)\n",
        "plt.xlabel('X-axis')\n",
        "plt.ylabel('Y-axis')\n",
        "plt.title('Line Plot')\n",
        "plt.show()\n",
        "\n",
        "# Histogram\n",
        "data = [1, 2, 3, 3, 4, 4, 4, 5, 5, 5, 5]\n",
        "plt.hist(data, bins=5)\n",
        "plt.xlabel('Value')\n",
        "plt.ylabel('Frequency')\n",
        "plt.title('Histogram')\n",
        "plt.show()\n",
        "\n",
        "# Scatter Plot\n",
        "x = [1, 2, 3, 4, 5]\n",
        "y = [10, 8, 6, 4, 2]\n",
        "plt.scatter(x, y)\n",
        "plt.xlabel('X-axis')\n",
        "plt.ylabel('Y-axis')\n",
        "plt.title('Scatter Plot')\n",
        "plt.show()"
      ]
    },
    {
      "cell_type": "markdown",
      "metadata": {
        "id": "83nK3T7b6jjP"
      },
      "source": [
        "# Prepared by\n",
        "\n",
        "## Abdulkarim M. Jamal Kanaan"
      ]
    }
  ],
  "metadata": {
    "kernelspec": {
      "display_name": "Python 3 (ipykernel)",
      "language": "python",
      "name": "python3"
    },
    "language_info": {
      "codemirror_mode": {
        "name": "ipython",
        "version": 3
      },
      "file_extension": ".py",
      "mimetype": "text/x-python",
      "name": "python",
      "nbconvert_exporter": "python",
      "pygments_lexer": "ipython3",
      "version": "3.8.13"
    },
    "colab": {
      "provenance": [],
      "include_colab_link": true
    }
  },
  "nbformat": 4,
  "nbformat_minor": 0
}