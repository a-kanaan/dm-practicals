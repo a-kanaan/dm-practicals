{
  "cells": [
    {
      "cell_type": "markdown",
      "id": "deb56ef1-3459-43b4-af1f-9c5e30a76806",
      "metadata": {
        "id": "deb56ef1-3459-43b4-af1f-9c5e30a76806"
      },
      "source": [
        "# Practical 8: Neural Network\n",
        "\n",
        "### Prepared by: <a href=\"https://www.linkedin.com/in/a-kanaan/\">Dr Abdulkarim M. Jamal Kanaan</a>\n",
        "<hr>\n",
        "\n",
        "* Acknowledgements: I would like to acknowledge the book \"Hands-On Machine Learning with Scikit-Learn, Keras, and TensorFlow\" written by Aurélien Géron. This practical exercise was prepared by Chapter 10 of the book, titled \"Introduction to Artificial Neural Networks with Keras.\"\n",
        "\n",
        "<table align=\"left\">\n",
        "  <td>\n",
        "    <a href=\"https://colab.research.google.com/github/a-kanaan/dm-practicals/blob/main/practical8/prac8_neural_network.ipynb\" target=\"_parent\"><img src=\"https://colab.research.google.com/assets/colab-badge.svg\" alt=\"Open In Colab\"/></a>\n",
        "  </td>\n",
        "</table>"
      ]
    },
    {
      "cell_type": "markdown",
      "id": "4f7174bd-396a-495d-9f7a-6d40a22d26bf",
      "metadata": {
        "id": "4f7174bd-396a-495d-9f7a-6d40a22d26bf"
      },
      "source": [
        "## The Perceptron"
      ]
    },
    {
      "cell_type": "code",
      "execution_count": 1,
      "id": "39e28560-3c79-472c-b9b0-a8b878b2da7c",
      "metadata": {
        "id": "39e28560-3c79-472c-b9b0-a8b878b2da7c",
        "outputId": "48560dae-c1ec-422f-b8f6-3ea9ff9e3e46",
        "colab": {
          "base_uri": "https://localhost:8080/"
        }
      },
      "outputs": [
        {
          "output_type": "execute_result",
          "data": {
            "text/plain": [
              "array([ True, False])"
            ]
          },
          "metadata": {},
          "execution_count": 1
        }
      ],
      "source": [
        "import numpy as np\n",
        "from sklearn.datasets import load_iris\n",
        "from sklearn.linear_model import Perceptron\n",
        "\n",
        "iris = load_iris(as_frame=True)\n",
        "X = iris.data[[\"petal length (cm)\", \"petal width (cm)\"]].values\n",
        "y = (iris.target == 0)  # Iris setosa\n",
        "\n",
        "per_clf = Perceptron(random_state=42)\n",
        "per_clf.fit(X, y)\n",
        "\n",
        "X_new = [[2, 0.5], [3, 1]]\n",
        "y_pred = per_clf.predict(X_new)  # predicts True and False for these 2 flowers\n",
        "y_pred"
      ]
    },
    {
      "cell_type": "markdown",
      "id": "acff7dfe-0437-44d9-8b4a-751d60ff8d21",
      "metadata": {
        "id": "acff7dfe-0437-44d9-8b4a-751d60ff8d21"
      },
      "source": [
        "## Regression MLPs"
      ]
    },
    {
      "cell_type": "code",
      "execution_count": 2,
      "id": "2d4957bf-8ffd-4699-9a8a-e67baaae28a6",
      "metadata": {
        "id": "2d4957bf-8ffd-4699-9a8a-e67baaae28a6",
        "outputId": "1eca7ed9-c0b1-4a94-dc69-c8031580cfdf",
        "colab": {
          "base_uri": "https://localhost:8080/"
        }
      },
      "outputs": [
        {
          "output_type": "execute_result",
          "data": {
            "text/plain": [
              "0.5053326657968591"
            ]
          },
          "metadata": {},
          "execution_count": 2
        }
      ],
      "source": [
        "from sklearn.datasets import fetch_california_housing\n",
        "from sklearn.metrics import mean_squared_error\n",
        "from sklearn.model_selection import train_test_split\n",
        "from sklearn.neural_network import MLPRegressor\n",
        "from sklearn.pipeline import make_pipeline\n",
        "from sklearn.preprocessing import StandardScaler\n",
        "\n",
        "housing = fetch_california_housing()\n",
        "X_train_full, X_test, y_train_full, y_test = train_test_split(\n",
        "    housing.data, housing.target, random_state=42)\n",
        "X_train, X_valid, y_train, y_valid = train_test_split(\n",
        "    X_train_full, y_train_full, random_state=42)\n",
        "\n",
        "mlp_reg = MLPRegressor(hidden_layer_sizes=[50, 50, 50], random_state=42)\n",
        "pipeline = make_pipeline(StandardScaler(), mlp_reg)\n",
        "pipeline.fit(X_train, y_train)\n",
        "y_pred = pipeline.predict(X_valid) #clean prediction\n",
        "rmse = mean_squared_error(y_valid, y_pred, squared=False) #validation score\n",
        "rmse"
      ]
    },
    {
      "cell_type": "markdown",
      "id": "c9c2d3d1-0ec0-4229-9312-8fc5a95013c5",
      "metadata": {
        "id": "c9c2d3d1-0ec0-4229-9312-8fc5a95013c5"
      },
      "source": [
        "## Classification MLPs"
      ]
    },
    {
      "cell_type": "code",
      "execution_count": 3,
      "id": "e77cfa04-d936-44e8-8758-181f2a5d2b52",
      "metadata": {
        "id": "e77cfa04-d936-44e8-8758-181f2a5d2b52",
        "outputId": "74ad7713-25ed-45f9-81ec-77512863972e",
        "colab": {
          "base_uri": "https://localhost:8080/"
        }
      },
      "outputs": [
        {
          "output_type": "execute_result",
          "data": {
            "text/plain": [
              "1.0"
            ]
          },
          "metadata": {},
          "execution_count": 3
        }
      ],
      "source": [
        "from sklearn.datasets import load_iris\n",
        "from sklearn.model_selection import train_test_split\n",
        "from sklearn.neural_network import MLPClassifier\n",
        "\n",
        "iris = load_iris()\n",
        "X_train_full, X_test, y_train_full, y_test = train_test_split(\n",
        "    iris.data, iris.target, test_size=0.1, random_state=42)\n",
        "X_train, X_valid, y_train, y_valid = train_test_split(\n",
        "    X_train_full, y_train_full, test_size=0.1, random_state=42)\n",
        "\n",
        "mlp_clf = MLPClassifier(hidden_layer_sizes=[5], max_iter=10_000,\n",
        "                        random_state=42)\n",
        "pipeline = make_pipeline(StandardScaler(), mlp_clf)\n",
        "pipeline.fit(X_train, y_train)\n",
        "accuracy = pipeline.score(X_valid, y_valid) #score by default\n",
        "accuracy"
      ]
    },
    {
      "cell_type": "markdown",
      "id": "3f4e8317-cb31-4d2e-8401-fe6853d59596",
      "metadata": {
        "id": "3f4e8317-cb31-4d2e-8401-fe6853d59596"
      },
      "source": [
        "## Building an Image Classifier Using the Sequential API"
      ]
    },
    {
      "cell_type": "code",
      "execution_count": 4,
      "id": "18c32763-9dc3-48f7-aa98-3bf85443fc9c",
      "metadata": {
        "id": "18c32763-9dc3-48f7-aa98-3bf85443fc9c",
        "outputId": "dff94fb4-e99c-4437-d167-347b3fc85b92",
        "colab": {
          "base_uri": "https://localhost:8080/"
        }
      },
      "outputs": [
        {
          "output_type": "stream",
          "name": "stdout",
          "text": [
            "Downloading data from https://storage.googleapis.com/tensorflow/tf-keras-datasets/train-labels-idx1-ubyte.gz\n",
            "29515/29515 [==============================] - 0s 0us/step\n",
            "Downloading data from https://storage.googleapis.com/tensorflow/tf-keras-datasets/train-images-idx3-ubyte.gz\n",
            "26421880/26421880 [==============================] - 1s 0us/step\n",
            "Downloading data from https://storage.googleapis.com/tensorflow/tf-keras-datasets/t10k-labels-idx1-ubyte.gz\n",
            "5148/5148 [==============================] - 0s 0us/step\n",
            "Downloading data from https://storage.googleapis.com/tensorflow/tf-keras-datasets/t10k-images-idx3-ubyte.gz\n",
            "4422102/4422102 [==============================] - 1s 0us/step\n"
          ]
        }
      ],
      "source": [
        "import tensorflow as tf\n",
        "\n",
        "fashion_mnist = tf.keras.datasets.fashion_mnist.load_data()\n",
        "(X_train_full, y_train_full), (X_test, y_test) = fashion_mnist\n",
        "X_train, y_train = X_train_full[:-5000], y_train_full[:-5000]\n",
        "X_valid, y_valid = X_train_full[-5000:], y_train_full[-5000:]"
      ]
    },
    {
      "cell_type": "code",
      "source": [
        "X_train_full.shape"
      ],
      "metadata": {
        "id": "9sZoWVNE4ty4",
        "outputId": "624df221-0c92-4f60-b7b3-6b5d5860f61c",
        "colab": {
          "base_uri": "https://localhost:8080/"
        }
      },
      "id": "9sZoWVNE4ty4",
      "execution_count": 5,
      "outputs": [
        {
          "output_type": "execute_result",
          "data": {
            "text/plain": [
              "(60000, 28, 28)"
            ]
          },
          "metadata": {},
          "execution_count": 5
        }
      ]
    },
    {
      "cell_type": "code",
      "execution_count": 6,
      "id": "c230d109-d479-4d59-aa58-6923eac9158d",
      "metadata": {
        "id": "c230d109-d479-4d59-aa58-6923eac9158d",
        "outputId": "e602da34-bed9-46b8-da44-1be49c58088d",
        "colab": {
          "base_uri": "https://localhost:8080/"
        }
      },
      "outputs": [
        {
          "output_type": "execute_result",
          "data": {
            "text/plain": [
              "(55000, 28, 28)"
            ]
          },
          "metadata": {},
          "execution_count": 6
        }
      ],
      "source": [
        "X_train.shape"
      ]
    },
    {
      "cell_type": "code",
      "execution_count": 7,
      "id": "d9ec2643-f456-4515-a03c-e43b470d17f3",
      "metadata": {
        "id": "d9ec2643-f456-4515-a03c-e43b470d17f3"
      },
      "outputs": [],
      "source": [
        "X_train, X_valid, X_test = X_train / 255., X_valid / 255., X_test / 255."
      ]
    },
    {
      "cell_type": "code",
      "execution_count": 8,
      "id": "78aa7241-a089-44ce-a7f9-d6d27837c933",
      "metadata": {
        "id": "78aa7241-a089-44ce-a7f9-d6d27837c933",
        "outputId": "5486f0cd-0bf0-493f-a7c5-06177d65d67b",
        "colab": {
          "base_uri": "https://localhost:8080/",
          "height": 406
        }
      },
      "outputs": [
        {
          "output_type": "display_data",
          "data": {
            "text/plain": [
              "<Figure size 640x480 with 1 Axes>"
            ],
            "image/png": "[encoded data removed]"
          },
          "metadata": {}
        }
      ],
      "source": [
        "#show sample\n",
        "import matplotlib.pyplot as plt\n",
        "plt.imshow(X_train[0], cmap=\"binary\")\n",
        "plt.axis('off')\n",
        "plt.show()"
      ]
    },
    {
      "cell_type": "code",
      "execution_count": 9,
      "id": "e2db3bec-da32-43a6-b5d1-39398abc79c1",
      "metadata": {
        "id": "e2db3bec-da32-43a6-b5d1-39398abc79c1",
        "outputId": "24a7f2e6-26eb-40cf-af07-be4773423e09",
        "colab": {
          "base_uri": "https://localhost:8080/"
        }
      },
      "outputs": [
        {
          "output_type": "execute_result",
          "data": {
            "text/plain": [
              "array([9, 0, 0, ..., 9, 0, 2], dtype=uint8)"
            ]
          },
          "metadata": {},
          "execution_count": 9
        }
      ],
      "source": [
        "y_train"
      ]
    },
    {
      "cell_type": "code",
      "source": [
        "import numpy as np\n",
        "np.unique(y_train)"
      ],
      "metadata": {
        "id": "3aY43uid6F1O",
        "outputId": "7fdbefb3-f6cd-4d36-b42d-ee265482a39e",
        "colab": {
          "base_uri": "https://localhost:8080/"
        }
      },
      "id": "3aY43uid6F1O",
      "execution_count": 10,
      "outputs": [
        {
          "output_type": "execute_result",
          "data": {
            "text/plain": [
              "array([0, 1, 2, 3, 4, 5, 6, 7, 8, 9], dtype=uint8)"
            ]
          },
          "metadata": {},
          "execution_count": 10
        }
      ]
    },
    {
      "cell_type": "code",
      "execution_count": 11,
      "id": "95eb87fa-0f9c-47e1-830f-e62e31f78ed8",
      "metadata": {
        "id": "95eb87fa-0f9c-47e1-830f-e62e31f78ed8"
      },
      "outputs": [],
      "source": [
        "class_names = [\"T-shirt/top\", \"Trouser\", \"Pullover\", \"Dress\", \"Coat\",\n",
        "               \"Sandal\", \"Shirt\", \"Sneaker\", \"Bag\", \"Ankle boot\"]"
      ]
    },
    {
      "cell_type": "code",
      "execution_count": 12,
      "id": "e6ff5252-2ee5-4c80-9daa-482735588182",
      "metadata": {
        "id": "e6ff5252-2ee5-4c80-9daa-482735588182",
        "outputId": "8ed85974-62b9-4c7d-a0a7-3ef7e9baf00e",
        "colab": {
          "base_uri": "https://localhost:8080/",
          "height": 35
        }
      },
      "outputs": [
        {
          "output_type": "execute_result",
          "data": {
            "text/plain": [
              "'Ankle boot'"
            ],
            "application/vnd.google.colaboratory.intrinsic+json": {
              "type": "string"
            }
          },
          "metadata": {},
          "execution_count": 12
        }
      ],
      "source": [
        "class_names[y_train[0]]"
      ]
    },
    {
      "cell_type": "markdown",
      "id": "533fc5a6-838f-486d-975a-328e5eaaa6a2",
      "metadata": {
        "id": "533fc5a6-838f-486d-975a-328e5eaaa6a2"
      },
      "source": [
        "### Create Model"
      ]
    },
    {
      "cell_type": "code",
      "execution_count": 13,
      "id": "697fc2f8-3e1f-45f6-9082-d00e39fee147",
      "metadata": {
        "id": "697fc2f8-3e1f-45f6-9082-d00e39fee147"
      },
      "outputs": [],
      "source": [
        "# create model\n",
        "tf.random.set_seed(42)\n",
        "model = tf.keras.Sequential()\n",
        "model.add(tf.keras.layers.InputLayer(input_shape=[28, 28])) #28X28=784\n",
        "model.add(tf.keras.layers.Flatten())\n",
        "model.add(tf.keras.layers.Dense(300, activation=\"relu\")) #1st hidden\n",
        "model.add(tf.keras.layers.Dense(100, activation=\"relu\")) #2nd hidden\n",
        "model.add(tf.keras.layers.Dense(10, activation=\"softmax\")) #output layer"
      ]
    },
    {
      "cell_type": "code",
      "execution_count": 14,
      "id": "55a4b27d-2154-4c17-99f4-3ff02d04dfd3",
      "metadata": {
        "id": "55a4b27d-2154-4c17-99f4-3ff02d04dfd3",
        "outputId": "36fe205a-36c0-4b15-9692-dc3574092cda",
        "colab": {
          "base_uri": "https://localhost:8080/"
        }
      },
      "outputs": [
        {
          "output_type": "stream",
          "name": "stdout",
          "text": [
            "Model: \"sequential\"\n",
            "_________________________________________________________________\n",
            " Layer (type)                Output Shape              Param #   \n",
            "=================================================================\n",
            " flatten (Flatten)           (None, 784)               0         \n",
            "                                                                 \n",
            " dense (Dense)               (None, 300)               235500    \n",
            "                                                                 \n",
            " dense_1 (Dense)             (None, 100)               30100     \n",
            "                                                                 \n",
            " dense_2 (Dense)             (None, 10)                1010      \n",
            "                                                                 \n",
            "=================================================================\n",
            "Total params: 266,610\n",
            "Trainable params: 266,610\n",
            "Non-trainable params: 0\n",
            "_________________________________________________________________\n"
          ]
        }
      ],
      "source": [
        "model.summary()"
      ]
    },
    {
      "cell_type": "code",
      "execution_count": 15,
      "id": "8280a1da-4ff6-433d-a076-3fccb50e6ffe",
      "metadata": {
        "id": "8280a1da-4ff6-433d-a076-3fccb50e6ffe",
        "outputId": "a8baa19d-5f8d-4476-abea-9c96884d3435",
        "colab": {
          "base_uri": "https://localhost:8080/"
        }
      },
      "outputs": [
        {
          "output_type": "execute_result",
          "data": {
            "text/plain": [
              "[<keras.layers.reshaping.flatten.Flatten at 0x7d794cb90160>,\n",
              " <keras.layers.core.dense.Dense at 0x7d796a44cee0>,\n",
              " <keras.layers.core.dense.Dense at 0x7d796a44f310>,\n",
              " <keras.layers.core.dense.Dense at 0x7d796a44f2e0>]"
            ]
          },
          "metadata": {},
          "execution_count": 15
        }
      ],
      "source": [
        "model.layers"
      ]
    },
    {
      "cell_type": "code",
      "execution_count": 16,
      "id": "7adfcfc8-1d12-4037-83d5-274ed41d4956",
      "metadata": {
        "id": "7adfcfc8-1d12-4037-83d5-274ed41d4956",
        "outputId": "2182eef7-46de-467f-c102-00341b39acc5",
        "colab": {
          "base_uri": "https://localhost:8080/",
          "height": 35
        }
      },
      "outputs": [
        {
          "output_type": "execute_result",
          "data": {
            "text/plain": [
              "'dense'"
            ],
            "application/vnd.google.colaboratory.intrinsic+json": {
              "type": "string"
            }
          },
          "metadata": {},
          "execution_count": 16
        }
      ],
      "source": [
        "hidden1 = model.layers[1]\n",
        "hidden1.name"
      ]
    },
    {
      "cell_type": "code",
      "execution_count": 17,
      "id": "86f9bb51-4467-49ea-826e-a8821491a089",
      "metadata": {
        "id": "86f9bb51-4467-49ea-826e-a8821491a089",
        "outputId": "fd08293c-82b3-4d9b-ebc1-89687b105a8e",
        "colab": {
          "base_uri": "https://localhost:8080/"
        }
      },
      "outputs": [
        {
          "output_type": "execute_result",
          "data": {
            "text/plain": [
              "array([[ 0.03230076, -0.04684762,  0.01369642, ..., -0.02276393,\n",
              "        -0.00953899, -0.05702434],\n",
              "       [-0.04120658,  0.06967153,  0.05018656, ...,  0.06764799,\n",
              "         0.00270405,  0.00885864],\n",
              "       [-0.03079726,  0.03965205, -0.00965725, ...,  0.06695738,\n",
              "        -0.05941523, -0.05219975],\n",
              "       ...,\n",
              "       [ 0.01097006, -0.05858987,  0.06828254, ..., -0.06862143,\n",
              "        -0.02751077,  0.01964545],\n",
              "       [ 0.06521553,  0.01413347, -0.01695242, ...,  0.01517456,\n",
              "        -0.04154812,  0.05138186],\n",
              "       [ 0.07094352, -0.04057749,  0.00636012, ...,  0.04620954,\n",
              "        -0.05189041, -0.02728786]], dtype=float32)"
            ]
          },
          "metadata": {},
          "execution_count": 17
        }
      ],
      "source": [
        "weights, biases = hidden1.get_weights()\n",
        "weights"
      ]
    },
    {
      "cell_type": "code",
      "execution_count": 18,
      "id": "584a8587-97d7-4d95-9acb-f6dc731bf510",
      "metadata": {
        "id": "584a8587-97d7-4d95-9acb-f6dc731bf510",
        "outputId": "6f755f05-858c-43dd-ecbc-78e7652d6fb4",
        "colab": {
          "base_uri": "https://localhost:8080/"
        }
      },
      "outputs": [
        {
          "output_type": "execute_result",
          "data": {
            "text/plain": [
              "(784, 300)"
            ]
          },
          "metadata": {},
          "execution_count": 18
        }
      ],
      "source": [
        "weights.shape"
      ]
    },
    {
      "cell_type": "code",
      "source": [
        "biases"
      ],
      "metadata": {
        "id": "H0X5oqGe_utx",
        "outputId": "32948469-72fe-4ca3-a7fb-83c098615842",
        "colab": {
          "base_uri": "https://localhost:8080/"
        }
      },
      "id": "H0X5oqGe_utx",
      "execution_count": 19,
      "outputs": [
        {
          "output_type": "execute_result",
          "data": {
            "text/plain": [
              "array([0., 0., 0., 0., 0., 0., 0., 0., 0., 0., 0., 0., 0., 0., 0., 0., 0.,\n",
              "       0., 0., 0., 0., 0., 0., 0., 0., 0., 0., 0., 0., 0., 0., 0., 0., 0.,\n",
              "       0., 0., 0., 0., 0., 0., 0., 0., 0., 0., 0., 0., 0., 0., 0., 0., 0.,\n",
              "       0., 0., 0., 0., 0., 0., 0., 0., 0., 0., 0., 0., 0., 0., 0., 0., 0.,\n",
              "       0., 0., 0., 0., 0., 0., 0., 0., 0., 0., 0., 0., 0., 0., 0., 0., 0.,\n",
              "       0., 0., 0., 0., 0., 0., 0., 0., 0., 0., 0., 0., 0., 0., 0., 0., 0.,\n",
              "       0., 0., 0., 0., 0., 0., 0., 0., 0., 0., 0., 0., 0., 0., 0., 0., 0.,\n",
              "       0., 0., 0., 0., 0., 0., 0., 0., 0., 0., 0., 0., 0., 0., 0., 0., 0.,\n",
              "       0., 0., 0., 0., 0., 0., 0., 0., 0., 0., 0., 0., 0., 0., 0., 0., 0.,\n",
              "       0., 0., 0., 0., 0., 0., 0., 0., 0., 0., 0., 0., 0., 0., 0., 0., 0.,\n",
              "       0., 0., 0., 0., 0., 0., 0., 0., 0., 0., 0., 0., 0., 0., 0., 0., 0.,\n",
              "       0., 0., 0., 0., 0., 0., 0., 0., 0., 0., 0., 0., 0., 0., 0., 0., 0.,\n",
              "       0., 0., 0., 0., 0., 0., 0., 0., 0., 0., 0., 0., 0., 0., 0., 0., 0.,\n",
              "       0., 0., 0., 0., 0., 0., 0., 0., 0., 0., 0., 0., 0., 0., 0., 0., 0.,\n",
              "       0., 0., 0., 0., 0., 0., 0., 0., 0., 0., 0., 0., 0., 0., 0., 0., 0.,\n",
              "       0., 0., 0., 0., 0., 0., 0., 0., 0., 0., 0., 0., 0., 0., 0., 0., 0.,\n",
              "       0., 0., 0., 0., 0., 0., 0., 0., 0., 0., 0., 0., 0., 0., 0., 0., 0.,\n",
              "       0., 0., 0., 0., 0., 0., 0., 0., 0., 0., 0.], dtype=float32)"
            ]
          },
          "metadata": {},
          "execution_count": 19
        }
      ]
    },
    {
      "cell_type": "code",
      "execution_count": 20,
      "id": "5dbbdaa2-3d43-4048-ab28-1d79d7666748",
      "metadata": {
        "id": "5dbbdaa2-3d43-4048-ab28-1d79d7666748",
        "outputId": "fb6d7075-bef1-477e-cdd3-a1bc0e6421fa",
        "colab": {
          "base_uri": "https://localhost:8080/"
        }
      },
      "outputs": [
        {
          "output_type": "execute_result",
          "data": {
            "text/plain": [
              "(300,)"
            ]
          },
          "metadata": {},
          "execution_count": 20
        }
      ],
      "source": [
        "biases.shape"
      ]
    },
    {
      "cell_type": "markdown",
      "id": "07ac3df6-dba1-41b0-ad2e-3dcc7b5e427e",
      "metadata": {
        "id": "07ac3df6-dba1-41b0-ad2e-3dcc7b5e427e"
      },
      "source": [
        "### Compile Model"
      ]
    },
    {
      "cell_type": "code",
      "execution_count": 21,
      "id": "f45e3eba-a082-407f-9710-304c9a90661d",
      "metadata": {
        "id": "f45e3eba-a082-407f-9710-304c9a90661d"
      },
      "outputs": [],
      "source": [
        "model.compile(loss=\"sparse_categorical_crossentropy\",\n",
        "              optimizer=\"sgd\",\n",
        "              metrics=[\"accuracy\"])"
      ]
    },
    {
      "cell_type": "markdown",
      "id": "c405aa04-9345-4fed-a4f0-ffb71f826f06",
      "metadata": {
        "id": "c405aa04-9345-4fed-a4f0-ffb71f826f06"
      },
      "source": [
        "### Train Model"
      ]
    },
    {
      "cell_type": "code",
      "execution_count": 22,
      "id": "2c68c8a4-6004-4146-939e-18ce404a4831",
      "metadata": {
        "id": "2c68c8a4-6004-4146-939e-18ce404a4831",
        "outputId": "fd0efcd4-c75b-4dab-f441-5bb4da2385c7",
        "colab": {
          "base_uri": "https://localhost:8080/"
        }
      },
      "outputs": [
        {
          "output_type": "stream",
          "name": "stdout",
          "text": [
            "Epoch 1/30\n",
            "1719/1719 [==============================] - 12s 4ms/step - loss: 0.7107 - accuracy: 0.7658 - val_loss: 0.5047 - val_accuracy: 0.8298\n",
            "Epoch 2/30\n",
            "1719/1719 [==============================] - 6s 3ms/step - loss: 0.4834 - accuracy: 0.8334 - val_loss: 0.4607 - val_accuracy: 0.8304\n",
            "Epoch 3/30\n",
            "1719/1719 [==============================] - 6s 4ms/step - loss: 0.4373 - accuracy: 0.8476 - val_loss: 0.4232 - val_accuracy: 0.8482\n",
            "Epoch 4/30\n",
            "1719/1719 [==============================] - 6s 3ms/step - loss: 0.4122 - accuracy: 0.8556 - val_loss: 0.3952 - val_accuracy: 0.8584\n",
            "Epoch 5/30\n",
            "1719/1719 [==============================] - 6s 4ms/step - loss: 0.3917 - accuracy: 0.8629 - val_loss: 0.3920 - val_accuracy: 0.8602\n",
            "Epoch 6/30\n",
            "1719/1719 [==============================] - 6s 3ms/step - loss: 0.3752 - accuracy: 0.8671 - val_loss: 0.3930 - val_accuracy: 0.8606\n",
            "Epoch 7/30\n",
            "1719/1719 [==============================] - 8s 4ms/step - loss: 0.3628 - accuracy: 0.8713 - val_loss: 0.3698 - val_accuracy: 0.8708\n",
            "Epoch 8/30\n",
            "1719/1719 [==============================] - 6s 4ms/step - loss: 0.3514 - accuracy: 0.8750 - val_loss: 0.3677 - val_accuracy: 0.8666\n",
            "Epoch 9/30\n",
            "1719/1719 [==============================] - 7s 4ms/step - loss: 0.3403 - accuracy: 0.8781 - val_loss: 0.3509 - val_accuracy: 0.8730\n",
            "Epoch 10/30\n",
            "1719/1719 [==============================] - 6s 3ms/step - loss: 0.3303 - accuracy: 0.8816 - val_loss: 0.3530 - val_accuracy: 0.8730\n",
            "Epoch 11/30\n",
            "1719/1719 [==============================] - 6s 4ms/step - loss: 0.3219 - accuracy: 0.8850 - val_loss: 0.3648 - val_accuracy: 0.8672\n",
            "Epoch 12/30\n",
            "1719/1719 [==============================] - 6s 4ms/step - loss: 0.3142 - accuracy: 0.8869 - val_loss: 0.3485 - val_accuracy: 0.8724\n",
            "Epoch 13/30\n",
            "1719/1719 [==============================] - 9s 5ms/step - loss: 0.3072 - accuracy: 0.8905 - val_loss: 0.3327 - val_accuracy: 0.8804\n",
            "Epoch 14/30\n",
            "1719/1719 [==============================] - 6s 3ms/step - loss: 0.3001 - accuracy: 0.8918 - val_loss: 0.3395 - val_accuracy: 0.8750\n",
            "Epoch 15/30\n",
            "1719/1719 [==============================] - 8s 5ms/step - loss: 0.2940 - accuracy: 0.8950 - val_loss: 0.3382 - val_accuracy: 0.8780\n",
            "Epoch 16/30\n",
            "1719/1719 [==============================] - 7s 4ms/step - loss: 0.2874 - accuracy: 0.8971 - val_loss: 0.3337 - val_accuracy: 0.8756\n",
            "Epoch 17/30\n",
            "1719/1719 [==============================] - 7s 4ms/step - loss: 0.2821 - accuracy: 0.8987 - val_loss: 0.3415 - val_accuracy: 0.8742\n",
            "Epoch 18/30\n",
            "1719/1719 [==============================] - 7s 4ms/step - loss: 0.2763 - accuracy: 0.9007 - val_loss: 0.3255 - val_accuracy: 0.8814\n",
            "Epoch 19/30\n",
            "1719/1719 [==============================] - 6s 4ms/step - loss: 0.2710 - accuracy: 0.9023 - val_loss: 0.3462 - val_accuracy: 0.8700\n",
            "Epoch 20/30\n",
            "1719/1719 [==============================] - 7s 4ms/step - loss: 0.2667 - accuracy: 0.9043 - val_loss: 0.3184 - val_accuracy: 0.8840\n",
            "Epoch 21/30\n",
            "1719/1719 [==============================] - 6s 4ms/step - loss: 0.2613 - accuracy: 0.9058 - val_loss: 0.3152 - val_accuracy: 0.8820\n",
            "Epoch 22/30\n",
            "1719/1719 [==============================] - 7s 4ms/step - loss: 0.2561 - accuracy: 0.9074 - val_loss: 0.3137 - val_accuracy: 0.8832\n",
            "Epoch 23/30\n",
            "1719/1719 [==============================] - 7s 4ms/step - loss: 0.2522 - accuracy: 0.9090 - val_loss: 0.3423 - val_accuracy: 0.8714\n",
            "Epoch 24/30\n",
            "1719/1719 [==============================] - 7s 4ms/step - loss: 0.2468 - accuracy: 0.9115 - val_loss: 0.3175 - val_accuracy: 0.8820\n",
            "Epoch 25/30\n",
            "1719/1719 [==============================] - 6s 4ms/step - loss: 0.2425 - accuracy: 0.9127 - val_loss: 0.3178 - val_accuracy: 0.8822\n",
            "Epoch 26/30\n",
            "1719/1719 [==============================] - 7s 4ms/step - loss: 0.2392 - accuracy: 0.9146 - val_loss: 0.3133 - val_accuracy: 0.8860\n",
            "Epoch 27/30\n",
            "1719/1719 [==============================] - 6s 4ms/step - loss: 0.2338 - accuracy: 0.9161 - val_loss: 0.3245 - val_accuracy: 0.8822\n",
            "Epoch 28/30\n",
            "1719/1719 [==============================] - 7s 4ms/step - loss: 0.2307 - accuracy: 0.9169 - val_loss: 0.3088 - val_accuracy: 0.8882\n",
            "Epoch 29/30\n",
            "1719/1719 [==============================] - 6s 4ms/step - loss: 0.2268 - accuracy: 0.9194 - val_loss: 0.3239 - val_accuracy: 0.8826\n",
            "Epoch 30/30\n",
            "1719/1719 [==============================] - 7s 4ms/step - loss: 0.2228 - accuracy: 0.9206 - val_loss: 0.3088 - val_accuracy: 0.8872\n"
          ]
        }
      ],
      "source": [
        "history = model.fit(X_train, y_train, epochs=30,\n",
        "                    validation_data=(X_valid, y_valid))"
      ]
    },
    {
      "cell_type": "markdown",
      "id": "0d861b28-c273-4272-bf64-ce4037e32253",
      "metadata": {
        "id": "0d861b28-c273-4272-bf64-ce4037e32253"
      },
      "source": [
        "### Evaluate Model"
      ]
    },
    {
      "cell_type": "code",
      "execution_count": 23,
      "id": "ef1043cf-0373-401d-bca5-d52327d8f4b4",
      "metadata": {
        "id": "ef1043cf-0373-401d-bca5-d52327d8f4b4",
        "outputId": "889e9eb8-bff0-4eb1-9b51-6e39e01ec4a6",
        "colab": {
          "base_uri": "https://localhost:8080/"
        }
      },
      "outputs": [
        {
          "output_type": "stream",
          "name": "stdout",
          "text": [
            "313/313 [==============================] - 1s 3ms/step - loss: 0.3262 - accuracy: 0.8859\n"
          ]
        },
        {
          "output_type": "execute_result",
          "data": {
            "text/plain": [
              "[0.32619038224220276, 0.8859000205993652]"
            ]
          },
          "metadata": {},
          "execution_count": 23
        }
      ],
      "source": [
        "model.evaluate(X_test, y_test)"
      ]
    },
    {
      "cell_type": "markdown",
      "id": "d677c7a9-08ca-4ece-b79c-8635ca0b1409",
      "metadata": {
        "id": "d677c7a9-08ca-4ece-b79c-8635ca0b1409"
      },
      "source": [
        "### Predict"
      ]
    },
    {
      "cell_type": "code",
      "execution_count": 24,
      "id": "6125db18-bc37-497b-819f-d76f2a07e5db",
      "metadata": {
        "id": "6125db18-bc37-497b-819f-d76f2a07e5db",
        "outputId": "97c36477-5b8d-48e0-e2b1-877d2bbcb7e7",
        "colab": {
          "base_uri": "https://localhost:8080/"
        }
      },
      "outputs": [
        {
          "output_type": "stream",
          "name": "stdout",
          "text": [
            "1/1 [==============================] - 0s 84ms/step\n"
          ]
        },
        {
          "output_type": "execute_result",
          "data": {
            "text/plain": [
              "array([[0.  , 0.  , 0.  , 0.  , 0.  , 0.  , 0.  , 0.01, 0.  , 0.99],\n",
              "       [0.  , 0.  , 1.  , 0.  , 0.  , 0.  , 0.  , 0.  , 0.  , 0.  ],\n",
              "       [0.  , 1.  , 0.  , 0.  , 0.  , 0.  , 0.  , 0.  , 0.  , 0.  ]],\n",
              "      dtype=float32)"
            ]
          },
          "metadata": {},
          "execution_count": 24
        }
      ],
      "source": [
        "X_new = X_test[:3]\n",
        "y_proba = model.predict(X_new)\n",
        "y_proba.round(2)"
      ]
    }
  ],
  "metadata": {
    "kernelspec": {
      "display_name": "Python 3",
      "name": "python3"
    },
    "language_info": {
      "codemirror_mode": {
        "name": "ipython",
        "version": 3
      },
      "file_extension": ".py",
      "mimetype": "text/x-python",
      "name": "python",
      "nbconvert_exporter": "python",
      "pygments_lexer": "ipython3",
      "version": "3.8.13"
    },
    "colab": {
      "provenance": [],
      "toc_visible": true,
      "gpuType": "V100"
    },
    "accelerator": "GPU"
  },
  "nbformat": 4,
  "nbformat_minor": 5
}